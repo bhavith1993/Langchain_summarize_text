{
 "cells": [
  {
   "cell_type": "code",
   "execution_count": 1,
   "metadata": {},
   "outputs": [
    {
     "name": "stdout",
     "output_type": "stream",
     "text": [
      "Requirement already satisfied: langchain_huggingface in c:\\users\\abcde\\onedrive\\desktop\\genai\\projects\\langchain_an_huggingface\\venv\\lib\\site-packages (0.1.2)\n",
      "Requirement already satisfied: huggingface-hub>=0.23.0 in c:\\users\\abcde\\onedrive\\desktop\\genai\\projects\\langchain_an_huggingface\\venv\\lib\\site-packages (from langchain_huggingface) (0.29.1)\n",
      "Requirement already satisfied: langchain-core<0.4.0,>=0.3.15 in c:\\users\\abcde\\onedrive\\desktop\\genai\\projects\\langchain_an_huggingface\\venv\\lib\\site-packages (from langchain_huggingface) (0.3.39)\n",
      "Requirement already satisfied: sentence-transformers>=2.6.0 in c:\\users\\abcde\\onedrive\\desktop\\genai\\projects\\langchain_an_huggingface\\venv\\lib\\site-packages (from langchain_huggingface) (3.4.1)\n",
      "Requirement already satisfied: tokenizers>=0.19.1 in c:\\users\\abcde\\onedrive\\desktop\\genai\\projects\\langchain_an_huggingface\\venv\\lib\\site-packages (from langchain_huggingface) (0.21.0)\n",
      "Requirement already satisfied: transformers>=4.39.0 in c:\\users\\abcde\\onedrive\\desktop\\genai\\projects\\langchain_an_huggingface\\venv\\lib\\site-packages (from langchain_huggingface) (4.49.0)\n",
      "Requirement already satisfied: filelock in c:\\users\\abcde\\onedrive\\desktop\\genai\\projects\\langchain_an_huggingface\\venv\\lib\\site-packages (from huggingface-hub>=0.23.0->langchain_huggingface) (3.17.0)\n",
      "Requirement already satisfied: fsspec>=2023.5.0 in c:\\users\\abcde\\onedrive\\desktop\\genai\\projects\\langchain_an_huggingface\\venv\\lib\\site-packages (from huggingface-hub>=0.23.0->langchain_huggingface) (2025.2.0)\n",
      "Requirement already satisfied: packaging>=20.9 in c:\\users\\abcde\\onedrive\\desktop\\genai\\projects\\langchain_an_huggingface\\venv\\lib\\site-packages (from huggingface-hub>=0.23.0->langchain_huggingface) (24.2)\n",
      "Requirement already satisfied: pyyaml>=5.1 in c:\\users\\abcde\\onedrive\\desktop\\genai\\projects\\langchain_an_huggingface\\venv\\lib\\site-packages (from huggingface-hub>=0.23.0->langchain_huggingface) (6.0.2)\n",
      "Requirement already satisfied: requests in c:\\users\\abcde\\onedrive\\desktop\\genai\\projects\\langchain_an_huggingface\\venv\\lib\\site-packages (from huggingface-hub>=0.23.0->langchain_huggingface) (2.32.3)\n",
      "Requirement already satisfied: tqdm>=4.42.1 in c:\\users\\abcde\\onedrive\\desktop\\genai\\projects\\langchain_an_huggingface\\venv\\lib\\site-packages (from huggingface-hub>=0.23.0->langchain_huggingface) (4.67.1)\n",
      "Requirement already satisfied: typing-extensions>=3.7.4.3 in c:\\users\\abcde\\onedrive\\desktop\\genai\\projects\\langchain_an_huggingface\\venv\\lib\\site-packages (from huggingface-hub>=0.23.0->langchain_huggingface) (4.12.2)\n",
      "Requirement already satisfied: langsmith<0.4,>=0.1.125 in c:\\users\\abcde\\onedrive\\desktop\\genai\\projects\\langchain_an_huggingface\\venv\\lib\\site-packages (from langchain-core<0.4.0,>=0.3.15->langchain_huggingface) (0.3.10)\n",
      "Requirement already satisfied: tenacity!=8.4.0,<10.0.0,>=8.1.0 in c:\\users\\abcde\\onedrive\\desktop\\genai\\projects\\langchain_an_huggingface\\venv\\lib\\site-packages (from langchain-core<0.4.0,>=0.3.15->langchain_huggingface) (9.0.0)\n",
      "Requirement already satisfied: jsonpatch<2.0,>=1.33 in c:\\users\\abcde\\onedrive\\desktop\\genai\\projects\\langchain_an_huggingface\\venv\\lib\\site-packages (from langchain-core<0.4.0,>=0.3.15->langchain_huggingface) (1.33)\n",
      "Requirement already satisfied: pydantic<3.0.0,>=2.5.2 in c:\\users\\abcde\\onedrive\\desktop\\genai\\projects\\langchain_an_huggingface\\venv\\lib\\site-packages (from langchain-core<0.4.0,>=0.3.15->langchain_huggingface) (2.10.6)\n",
      "Requirement already satisfied: torch>=1.11.0 in c:\\users\\abcde\\onedrive\\desktop\\genai\\projects\\langchain_an_huggingface\\venv\\lib\\site-packages (from sentence-transformers>=2.6.0->langchain_huggingface) (2.6.0)\n",
      "Requirement already satisfied: scikit-learn in c:\\users\\abcde\\onedrive\\desktop\\genai\\projects\\langchain_an_huggingface\\venv\\lib\\site-packages (from sentence-transformers>=2.6.0->langchain_huggingface) (1.6.1)\n",
      "Requirement already satisfied: scipy in c:\\users\\abcde\\onedrive\\desktop\\genai\\projects\\langchain_an_huggingface\\venv\\lib\\site-packages (from sentence-transformers>=2.6.0->langchain_huggingface) (1.15.2)\n",
      "Requirement already satisfied: Pillow in c:\\users\\abcde\\onedrive\\desktop\\genai\\projects\\langchain_an_huggingface\\venv\\lib\\site-packages (from sentence-transformers>=2.6.0->langchain_huggingface) (11.1.0)\n",
      "Requirement already satisfied: numpy>=1.17 in c:\\users\\abcde\\onedrive\\desktop\\genai\\projects\\langchain_an_huggingface\\venv\\lib\\site-packages (from transformers>=4.39.0->langchain_huggingface) (1.26.4)\n",
      "Requirement already satisfied: regex!=2019.12.17 in c:\\users\\abcde\\onedrive\\desktop\\genai\\projects\\langchain_an_huggingface\\venv\\lib\\site-packages (from transformers>=4.39.0->langchain_huggingface) (2024.11.6)\n",
      "Requirement already satisfied: safetensors>=0.4.1 in c:\\users\\abcde\\onedrive\\desktop\\genai\\projects\\langchain_an_huggingface\\venv\\lib\\site-packages (from transformers>=4.39.0->langchain_huggingface) (0.5.2)\n",
      "Requirement already satisfied: jsonpointer>=1.9 in c:\\users\\abcde\\onedrive\\desktop\\genai\\projects\\langchain_an_huggingface\\venv\\lib\\site-packages (from jsonpatch<2.0,>=1.33->langchain-core<0.4.0,>=0.3.15->langchain_huggingface) (3.0.0)\n",
      "Requirement already satisfied: httpx<1,>=0.23.0 in c:\\users\\abcde\\onedrive\\desktop\\genai\\projects\\langchain_an_huggingface\\venv\\lib\\site-packages (from langsmith<0.4,>=0.1.125->langchain-core<0.4.0,>=0.3.15->langchain_huggingface) (0.28.1)\n",
      "Requirement already satisfied: orjson<4.0.0,>=3.9.14 in c:\\users\\abcde\\onedrive\\desktop\\genai\\projects\\langchain_an_huggingface\\venv\\lib\\site-packages (from langsmith<0.4,>=0.1.125->langchain-core<0.4.0,>=0.3.15->langchain_huggingface) (3.10.15)\n",
      "Requirement already satisfied: requests-toolbelt<2.0.0,>=1.0.0 in c:\\users\\abcde\\onedrive\\desktop\\genai\\projects\\langchain_an_huggingface\\venv\\lib\\site-packages (from langsmith<0.4,>=0.1.125->langchain-core<0.4.0,>=0.3.15->langchain_huggingface) (1.0.0)\n",
      "Requirement already satisfied: zstandard<0.24.0,>=0.23.0 in c:\\users\\abcde\\onedrive\\desktop\\genai\\projects\\langchain_an_huggingface\\venv\\lib\\site-packages (from langsmith<0.4,>=0.1.125->langchain-core<0.4.0,>=0.3.15->langchain_huggingface) (0.23.0)\n",
      "Requirement already satisfied: annotated-types>=0.6.0 in c:\\users\\abcde\\onedrive\\desktop\\genai\\projects\\langchain_an_huggingface\\venv\\lib\\site-packages (from pydantic<3.0.0,>=2.5.2->langchain-core<0.4.0,>=0.3.15->langchain_huggingface) (0.7.0)\n",
      "Requirement already satisfied: pydantic-core==2.27.2 in c:\\users\\abcde\\onedrive\\desktop\\genai\\projects\\langchain_an_huggingface\\venv\\lib\\site-packages (from pydantic<3.0.0,>=2.5.2->langchain-core<0.4.0,>=0.3.15->langchain_huggingface) (2.27.2)\n",
      "Requirement already satisfied: charset-normalizer<4,>=2 in c:\\users\\abcde\\onedrive\\desktop\\genai\\projects\\langchain_an_huggingface\\venv\\lib\\site-packages (from requests->huggingface-hub>=0.23.0->langchain_huggingface) (3.4.1)\n",
      "Requirement already satisfied: idna<4,>=2.5 in c:\\users\\abcde\\onedrive\\desktop\\genai\\projects\\langchain_an_huggingface\\venv\\lib\\site-packages (from requests->huggingface-hub>=0.23.0->langchain_huggingface) (3.10)\n",
      "Requirement already satisfied: urllib3<3,>=1.21.1 in c:\\users\\abcde\\onedrive\\desktop\\genai\\projects\\langchain_an_huggingface\\venv\\lib\\site-packages (from requests->huggingface-hub>=0.23.0->langchain_huggingface) (2.3.0)\n",
      "Requirement already satisfied: certifi>=2017.4.17 in c:\\users\\abcde\\onedrive\\desktop\\genai\\projects\\langchain_an_huggingface\\venv\\lib\\site-packages (from requests->huggingface-hub>=0.23.0->langchain_huggingface) (2025.1.31)\n",
      "Requirement already satisfied: networkx in c:\\users\\abcde\\onedrive\\desktop\\genai\\projects\\langchain_an_huggingface\\venv\\lib\\site-packages (from torch>=1.11.0->sentence-transformers>=2.6.0->langchain_huggingface) (3.4.2)\n",
      "Requirement already satisfied: jinja2 in c:\\users\\abcde\\onedrive\\desktop\\genai\\projects\\langchain_an_huggingface\\venv\\lib\\site-packages (from torch>=1.11.0->sentence-transformers>=2.6.0->langchain_huggingface) (3.1.5)\n",
      "Requirement already satisfied: sympy==1.13.1 in c:\\users\\abcde\\onedrive\\desktop\\genai\\projects\\langchain_an_huggingface\\venv\\lib\\site-packages (from torch>=1.11.0->sentence-transformers>=2.6.0->langchain_huggingface) (1.13.1)\n",
      "Requirement already satisfied: mpmath<1.4,>=1.1.0 in c:\\users\\abcde\\onedrive\\desktop\\genai\\projects\\langchain_an_huggingface\\venv\\lib\\site-packages (from sympy==1.13.1->torch>=1.11.0->sentence-transformers>=2.6.0->langchain_huggingface) (1.3.0)\n",
      "Requirement already satisfied: colorama in c:\\users\\abcde\\onedrive\\desktop\\genai\\projects\\langchain_an_huggingface\\venv\\lib\\site-packages (from tqdm>=4.42.1->huggingface-hub>=0.23.0->langchain_huggingface) (0.4.6)\n",
      "Requirement already satisfied: joblib>=1.2.0 in c:\\users\\abcde\\onedrive\\desktop\\genai\\projects\\langchain_an_huggingface\\venv\\lib\\site-packages (from scikit-learn->sentence-transformers>=2.6.0->langchain_huggingface) (1.4.2)\n",
      "Requirement already satisfied: threadpoolctl>=3.1.0 in c:\\users\\abcde\\onedrive\\desktop\\genai\\projects\\langchain_an_huggingface\\venv\\lib\\site-packages (from scikit-learn->sentence-transformers>=2.6.0->langchain_huggingface) (3.5.0)\n",
      "Requirement already satisfied: anyio in c:\\users\\abcde\\onedrive\\desktop\\genai\\projects\\langchain_an_huggingface\\venv\\lib\\site-packages (from httpx<1,>=0.23.0->langsmith<0.4,>=0.1.125->langchain-core<0.4.0,>=0.3.15->langchain_huggingface) (4.8.0)\n",
      "Requirement already satisfied: httpcore==1.* in c:\\users\\abcde\\onedrive\\desktop\\genai\\projects\\langchain_an_huggingface\\venv\\lib\\site-packages (from httpx<1,>=0.23.0->langsmith<0.4,>=0.1.125->langchain-core<0.4.0,>=0.3.15->langchain_huggingface) (1.0.7)\n",
      "Requirement already satisfied: h11<0.15,>=0.13 in c:\\users\\abcde\\onedrive\\desktop\\genai\\projects\\langchain_an_huggingface\\venv\\lib\\site-packages (from httpcore==1.*->httpx<1,>=0.23.0->langsmith<0.4,>=0.1.125->langchain-core<0.4.0,>=0.3.15->langchain_huggingface) (0.14.0)\n",
      "Requirement already satisfied: MarkupSafe>=2.0 in c:\\users\\abcde\\onedrive\\desktop\\genai\\projects\\langchain_an_huggingface\\venv\\lib\\site-packages (from jinja2->torch>=1.11.0->sentence-transformers>=2.6.0->langchain_huggingface) (3.0.2)\n",
      "Requirement already satisfied: exceptiongroup>=1.0.2 in c:\\users\\abcde\\onedrive\\desktop\\genai\\projects\\langchain_an_huggingface\\venv\\lib\\site-packages (from anyio->httpx<1,>=0.23.0->langsmith<0.4,>=0.1.125->langchain-core<0.4.0,>=0.3.15->langchain_huggingface) (1.2.2)\n",
      "Requirement already satisfied: sniffio>=1.1 in c:\\users\\abcde\\onedrive\\desktop\\genai\\projects\\langchain_an_huggingface\\venv\\lib\\site-packages (from anyio->httpx<1,>=0.23.0->langsmith<0.4,>=0.1.125->langchain-core<0.4.0,>=0.3.15->langchain_huggingface) (1.3.1)\n"
     ]
    }
   ],
   "source": [
    "!pip install langchain_huggingface"
   ]
  },
  {
   "cell_type": "code",
   "execution_count": 3,
   "metadata": {},
   "outputs": [
    {
     "data": {
      "text/plain": [
       "True"
      ]
     },
     "execution_count": 3,
     "metadata": {},
     "output_type": "execute_result"
    }
   ],
   "source": [
    "import os\n",
    "from dotenv import load_dotenv\n",
    "load_dotenv()"
   ]
  },
  {
   "cell_type": "code",
   "execution_count": 4,
   "metadata": {},
   "outputs": [],
   "source": [
    "from langchain_huggingface import HuggingFaceEndpoint\n"
   ]
  },
  {
   "cell_type": "code",
   "execution_count": 6,
   "metadata": {},
   "outputs": [
    {
     "name": "stderr",
     "output_type": "stream",
     "text": [
      "WARNING! max_length is not default parameter.\n",
      "                    max_length was transferred to model_kwargs.\n",
      "                    Please make sure that max_length is what you intended.\n",
      "WARNING! token is not default parameter.\n",
      "                    token was transferred to model_kwargs.\n",
      "                    Please make sure that token is what you intended.\n",
      "c:\\Users\\abcde\\OneDrive\\Desktop\\GenAI\\Projects\\Langchain_an_Huggingface\\venv\\lib\\site-packages\\tqdm\\auto.py:21: TqdmWarning: IProgress not found. Please update jupyter and ipywidgets. See https://ipywidgets.readthedocs.io/en/stable/user_install.html\n",
      "  from .autonotebook import tqdm as notebook_tqdm\n",
      "Note: Environment variable`HF_TOKEN` is set and is the current active token independently from the token you've just configured.\n"
     ]
    }
   ],
   "source": [
    "repo_id = \"mistralai/Mistral-7B-Instruct-v0.3\"\n",
    "llm = HuggingFaceEndpoint(repo_id=repo_id, max_length=150, temperature=0.7, token= os.getenv(\"HF_TOKEN\"))"
   ]
  },
  {
   "cell_type": "code",
   "execution_count": 7,
   "metadata": {},
   "outputs": [
    {
     "name": "stderr",
     "output_type": "stream",
     "text": [
      "c:\\Users\\abcde\\OneDrive\\Desktop\\GenAI\\Projects\\Langchain_an_Huggingface\\venv\\lib\\site-packages\\huggingface_hub\\utils\\_deprecation.py:131: FutureWarning: 'post' (from 'huggingface_hub.inference._client') is deprecated and will be removed from version '0.31.0'. Making direct POST requests to the inference server is not supported anymore. Please use task methods instead (e.g. `InferenceClient.chat_completion`). If your use case is not supported, please open an issue in https://github.com/huggingface/huggingface_hub.\n",
      "  warnings.warn(warning_message, FutureWarning)\n"
     ]
    },
    {
     "data": {
      "text/plain": [
       "'\\n\\nParis is the capital of France. The city is located in the north of the country and is the most populous city in France. Paris is known for its iconic landmarks, including the Eiffel Tower, Notre-Dame Cathedral, and the Louvre Museum. It is also a major cultural and economic hub and is home to many important institutions, including the French government and the European Union.\\n\\nParis has a long and rich history, dating back to the Roman era. It became the capital of the Kingdom of France in the late Middle Ages and has remained the capital of the French Republic since its establishment in 1792. Today, Paris is a vibrant and dynamic city with a diverse population and a thriving economy. It is a popular tourist destination, attracting millions of visitors each year to its many museums, monuments, and cultural attractions.'"
      ]
     },
     "execution_count": 7,
     "metadata": {},
     "output_type": "execute_result"
    }
   ],
   "source": [
    "llm.invoke(\"What is the capital of France?\")"
   ]
  },
  {
   "cell_type": "code",
   "execution_count": 9,
   "metadata": {},
   "outputs": [
    {
     "name": "stdout",
     "output_type": "stream",
     "text": [
      "input_variables=['question'] input_types={} partial_variables={} template='\\nQuestion: {question}\\nAnswer: lets think step by step\\n'\n"
     ]
    }
   ],
   "source": [
    "from langchain import PromptTemplate, LLMChain\n",
    "template = \"\"\"\n",
    "Question: {question}\n",
    "Answer: lets think step by step\n",
    "\"\"\"\n",
    "prompt = PromptTemplate(template=template, input_variables=[\"question\"])\n",
    "print(prompt)\n"
   ]
  },
  {
   "cell_type": "code",
   "execution_count": 10,
   "metadata": {},
   "outputs": [
    {
     "name": "stderr",
     "output_type": "stream",
     "text": [
      "C:\\Users\\abcde\\AppData\\Local\\Temp\\ipykernel_1428\\3264057037.py:1: LangChainDeprecationWarning: The class `LLMChain` was deprecated in LangChain 0.1.17 and will be removed in 1.0. Use :meth:`~RunnableSequence, e.g., `prompt | llm`` instead.\n",
      "  llm_chain = LLMChain(prompt=prompt, llm=llm)\n",
      "c:\\Users\\abcde\\OneDrive\\Desktop\\GenAI\\Projects\\Langchain_an_Huggingface\\venv\\lib\\site-packages\\huggingface_hub\\utils\\_deprecation.py:131: FutureWarning: 'post' (from 'huggingface_hub.inference._client') is deprecated and will be removed from version '0.31.0'. Making direct POST requests to the inference server is not supported anymore. Please use task methods instead (e.g. `InferenceClient.chat_completion`). If your use case is not supported, please open an issue in https://github.com/huggingface/huggingface_hub.\n",
      "  warnings.warn(warning_message, FutureWarning)\n"
     ]
    },
    {
     "data": {
      "text/plain": [
       "' India won the Cricket World Cup in 2011. They defeated Sri Lanka in the final match, which was held in Mumbai, India. The final was a close and exciting match, with India winning by 6 wickets with 6 balls remaining. The Indian team was captained by Mahendra Singh Dhoni and included several key players such as Sachin Tendulkar, Virender Sehwag, and Yuvraj Singh. The 2011 World Cup was the fourth time that India had won the tournament, and it was the first time that they had won it on home soil.'"
      ]
     },
     "execution_count": 10,
     "metadata": {},
     "output_type": "execute_result"
    }
   ],
   "source": [
    "llm_chain = LLMChain(prompt=prompt, llm=llm)\n",
    "llm.invoke(\"who won the cricket world cup in 2011?\")"
   ]
  },
  {
   "cell_type": "code",
   "execution_count": 13,
   "metadata": {},
   "outputs": [
    {
     "name": "stderr",
     "output_type": "stream",
     "text": [
      "c:\\Users\\abcde\\OneDrive\\Desktop\\GenAI\\Projects\\Langchain_an_Huggingface\\venv\\lib\\site-packages\\huggingface_hub\\file_download.py:142: UserWarning: `huggingface_hub` cache-system uses symlinks by default to efficiently store duplicated files but your machine does not support them in C:\\Users\\abcde\\.cache\\huggingface\\hub\\models--BAAI--bge-small-en. Caching files will still work but in a degraded version that might require more space on your disk. This warning can be disabled by setting the `HF_HUB_DISABLE_SYMLINKS_WARNING` environment variable. For more details, see https://huggingface.co/docs/huggingface_hub/how-to-cache#limitations.\n",
      "To support symlinks on Windows, you either need to activate Developer Mode or to run Python as an administrator. In order to activate developer mode, see this article: https://docs.microsoft.com/en-us/windows/apps/get-started/enable-your-device-for-development\n",
      "  warnings.warn(message)\n"
     ]
    }
   ],
   "source": [
    "from langchain_community.embeddings import HuggingFaceEmbeddings\n",
    "\n",
    "model_name = \"BAAI/bge-small-en\"\n",
    "model_kwargs = {\"device\": \"cpu\"}\n",
    "encode_kwargs = {\"normalize_embeddings\": True}\n",
    "hf = HuggingFaceEmbeddings(\n",
    "    model_name=model_name, model_kwargs=model_kwargs, encode_kwargs=encode_kwargs\n",
    "    )\n"
   ]
  },
  {
   "cell_type": "code",
   "execution_count": null,
   "metadata": {},
   "outputs": [],
   "source": []
  }
 ],
 "metadata": {
  "kernelspec": {
   "display_name": "Python 3",
   "language": "python",
   "name": "python3"
  },
  "language_info": {
   "codemirror_mode": {
    "name": "ipython",
    "version": 3
   },
   "file_extension": ".py",
   "mimetype": "text/x-python",
   "name": "python",
   "nbconvert_exporter": "python",
   "pygments_lexer": "ipython3",
   "version": "3.10.0"
  }
 },
 "nbformat": 4,
 "nbformat_minor": 2
}
